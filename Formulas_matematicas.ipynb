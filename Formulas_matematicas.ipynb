{
 "cells": [
  {
   "cell_type": "code",
   "execution_count": 8,
   "metadata": {},
   "outputs": [
    {
     "name": "stdout",
     "output_type": "stream",
     "text": [
      "[0] - Sair\n",
      "[1] - Pitagoras\n",
      "[2] - Bhaskara\n",
      "O valor de delta é: -124\n",
      "x1: (-0.5999999999999999+1.1135528725660042j), x2: (-0.6000000000000001-1.1135528725660042j)\n"
     ]
    }
   ],
   "source": [
    "#Calcular Fórmulas Matemáticas\n",
    "\n",
    "print('[0] - Sair')\n",
    "print('[1] - Pitagoras')\n",
    "print('[2] - Bhaskara')\n",
    "\n",
    "opcao = int(input('Escolha qual fórmula deseja calcular'))\n",
    "\n",
    "a = int(input('Digite o valor de a: '))\n",
    "b = int(input('Digite o valor de b: '))\n",
    "c = int(input('Digite o valor de c: '))\n",
    "delta = (b ** 2) - 4 * a * c\n",
    "x1 = (-b + delta ** (1 / 2)) / (2 * a)\n",
    "x2 = (-b - delta ** (1 / 2)) / (2 * a)\n",
    "\n",
    "\n",
    "ca = float(input('Digite o valor do cateto adjacente: '))\n",
    "co = float(input('Digite o valor do cateto oposto: '))\n",
    "hipotenusa = (ca ** 2 + co ** 2) ** (1/2)\n",
    "\n",
    "#condição#\n",
    "if opcao == 1:\n",
    "    print('A hipotenusa é: {}' . format(hipotenusa))\n",
    "\n",
    "elif opcao == 2:\n",
    "    print('O valor de delta é: {}' . format(delta))\n",
    "    print(\"x1: {}, x2: {}\". format(x1, x2))\n",
    "\n",
    "else:\n",
    "    print('Sair')\n",
    "\n"
   ]
  }
 ],
 "metadata": {
  "kernelspec": {
   "display_name": "Python 3",
   "language": "python",
   "name": "python3"
  },
  "language_info": {
   "codemirror_mode": {
    "name": "ipython",
    "version": 3
   },
   "file_extension": ".py",
   "mimetype": "text/x-python",
   "name": "python",
   "nbconvert_exporter": "python",
   "pygments_lexer": "ipython3",
   "version": "3.10.11"
  },
  "orig_nbformat": 4
 },
 "nbformat": 4,
 "nbformat_minor": 2
}
