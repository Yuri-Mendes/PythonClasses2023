{
 "cells": [
  {
   "cell_type": "code",
   "execution_count": 2,
   "metadata": {},
   "outputs": [
    {
     "name": "stdout",
     "output_type": "stream",
     "text": [
      "[0] - Sair\n",
      "[1] - Jornada com intervalo\n",
      "[2] - Jornada sem intervalo\n",
      "[3] - Jornada reduzida\n",
      "Você escolheu a opção 1. Hoje sua jornada será de 9 horas com 1 hora intervalo\n"
     ]
    }
   ],
   "source": [
    "#Escolha Tempo de Jornada de Trabalho\n",
    "\n",
    "print('[0] - Sair')\n",
    "print('[1] - Jornada com intervalo')\n",
    "print('[2] - Jornada sem intervalo')\n",
    "print('[3] - Jornada reduzida')\n",
    "\n",
    "opcao = int(input('Escolha a opção de jornada de trabalho para hoje:'))\n",
    "\n",
    "num1 = int(input('Quantas horas deseja trabalhar hoje: '))\n",
    "\n",
    "JornCItv = int(num1) + int(1)\n",
    "\n",
    "JornSItv = int(num1) - int(2)\n",
    "\n",
    "JornRed = int(num1) - int(3)\n",
    "\n",
    "#condição#\n",
    "if opcao == 1:\n",
    "    print('Você escolheu a opção 1. Hoje sua jornada será de {} horas com 1 hora intervalo' . format(JornCItv))\n",
    "\n",
    "elif opcao == 2:\n",
    "    print('Você escolheu a opção 2. Hoje sua jornada será de {} horas sem intervalo' . format(JornSItv))\n",
    "\n",
    "elif opcao == 3:\n",
    "    print('Você escolheu a opção 3. Hoje sua jornada reduzida será de {} horas sem intervalo' . format(JornRed))\n",
    "\n",
    "else:\n",
    "    print('Sair')"
   ]
  }
 ],
 "metadata": {
  "kernelspec": {
   "display_name": "Python 3",
   "language": "python",
   "name": "python3"
  },
  "language_info": {
   "codemirror_mode": {
    "name": "ipython",
    "version": 3
   },
   "file_extension": ".py",
   "mimetype": "text/x-python",
   "name": "python",
   "nbconvert_exporter": "python",
   "pygments_lexer": "ipython3",
   "version": "3.10.11"
  },
  "orig_nbformat": 4
 },
 "nbformat": 4,
 "nbformat_minor": 2
}
