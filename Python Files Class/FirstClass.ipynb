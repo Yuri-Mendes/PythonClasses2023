{
 "cells": [
  {
   "cell_type": "code",
   "execution_count": 8,
   "metadata": {},
   "outputs": [
    {
     "name": "stdout",
     "output_type": "stream",
     "text": [
      "this a calculator\n",
      "Resultado da soma dos valores: 70\n",
      "Resultado da divisão dos valores: 2.5\n",
      "Resultado da multiplicação dos valores: 1000\n",
      "Resultado da divisão dos valores: 30\n"
     ]
    }
   ],
   "source": [
    "print('this a calculator')\n",
    "#variáveis#\n",
    "num=50\n",
    "num2=20\n",
    "\n",
    "#condição#\n",
    "res1=num+num2 #observação\n",
    "res2=num/num2\n",
    "res3=num*num2\n",
    "res4=num-num2\n",
    "\n",
    "print(f'Resultado da soma dos valores: {res1}')\n",
    "print(f'Resultado da divisão dos valores: {res2}')\n",
    "print(f'Resultado da multiplicação dos valores: {res3}')\n",
    "print(f'Resultado da divisão dos valores: {res4}')\n"
   ]
  }
 ],
 "metadata": {
  "kernelspec": {
   "display_name": "Python 3",
   "language": "python",
   "name": "python3"
  },
  "language_info": {
   "codemirror_mode": {
    "name": "ipython",
    "version": 3
   },
   "file_extension": ".py",
   "mimetype": "text/x-python",
   "name": "python",
   "nbconvert_exporter": "python",
   "pygments_lexer": "ipython3",
   "version": "3.10.11"
  },
  "orig_nbformat": 4
 },
 "nbformat": 4,
 "nbformat_minor": 2
}
