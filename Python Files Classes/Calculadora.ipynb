{
 "cells": [
  {
   "cell_type": "code",
   "execution_count": 5,
   "metadata": {},
   "outputs": [
    {
     "name": "stdout",
     "output_type": "stream",
     "text": [
      "This a Calculator\n",
      "O resultado da soma dos valores é igual a 30\n"
     ]
    }
   ],
   "source": [
    "print('This a Calculator')\n",
    "#variáveis\n",
    "num1 = input('Informe um número:')\n",
    "num2 = input('Informe um número:')\n",
    "\n",
    "#condição\n",
    "soma = int(num1) + int(num2)\n",
    "\n",
    "#resultado\n",
    "print('O resultado da soma dos valores é igual a {}' . format(soma))\n",
    "\n"
   ]
  }
 ],
 "metadata": {
  "kernelspec": {
   "display_name": "Python 3",
   "language": "python",
   "name": "python3"
  },
  "language_info": {
   "codemirror_mode": {
    "name": "ipython",
    "version": 3
   },
   "file_extension": ".py",
   "mimetype": "text/x-python",
   "name": "python",
   "nbconvert_exporter": "python",
   "pygments_lexer": "ipython3",
   "version": "3.10.11"
  },
  "orig_nbformat": 4
 },
 "nbformat": 4,
 "nbformat_minor": 2
}
