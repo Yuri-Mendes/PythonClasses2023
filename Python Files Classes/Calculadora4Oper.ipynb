{
 "cells": [
  {
   "cell_type": "code",
   "execution_count": 1,
   "metadata": {},
   "outputs": [
    {
     "name": "stdout",
     "output_type": "stream",
     "text": [
      "Calculadora 4 Operações Matemáticas\n",
      "Resultado da soma dos valores: 30\n",
      "Resultado da subtração dos valores: 20\n",
      "Resultado da multiplicação dos valores: 125\n",
      "Resultado da divisão dos valores: 5.0\n"
     ]
    }
   ],
   "source": [
    "#Calculadora 4 Operações Matemáticas\n",
    "\n",
    "print('Calculadora 4 Operações Matemáticas')\n",
    "#variáveis#\n",
    "num1 = input('Informe um número:')\n",
    "num2 = input('Informe um número:')\n",
    "\n",
    "#condição#\n",
    "soma1 = int(num1) + int(num2)\n",
    "soma2 = int(num1) - int(num2)\n",
    "soma3 = int(num1) * int(num2)\n",
    "soma4 = int(num1) / int(num2)\n",
    "\n",
    "print(f'Resultado da soma dos valores: {soma1}')\n",
    "print(f'Resultado da subtração dos valores: {soma2}')\n",
    "print(f'Resultado da multiplicação dos valores: {soma3}')\n",
    "print(f'Resultado da divisão dos valores: {soma4}')"
   ]
  }
 ],
 "metadata": {
  "kernelspec": {
   "display_name": "Python 3",
   "language": "python",
   "name": "python3"
  },
  "language_info": {
   "codemirror_mode": {
    "name": "ipython",
    "version": 3
   },
   "file_extension": ".py",
   "mimetype": "text/x-python",
   "name": "python",
   "nbconvert_exporter": "python",
   "pygments_lexer": "ipython3",
   "version": "3.10.11"
  },
  "orig_nbformat": 4
 },
 "nbformat": 4,
 "nbformat_minor": 2
}
